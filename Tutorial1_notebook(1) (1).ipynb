{
  "cells": [
    {
      "cell_type": "markdown",
      "metadata": {},
      "source": [
        "# Tutorial 1"
      ]
    },
    {
      "cell_type": "markdown",
      "metadata": {},
      "source": [
        "You can use this notebook to answer questions 4 and 5 of tutorial 1"
      ]
    },
    {
      "cell_type": "markdown",
      "metadata": {},
      "source": [
        "First we import some preliminary libraries that you will need in this notebook. You can import them by running the code blocks below"
      ]
    },
    {
      "cell_type": "code",
      "execution_count": null,
      "metadata": {
        "trusted": true
      },
      "outputs": [],
      "source": [
        "%pip install lmfit"
      ]
    },
    {
      "cell_type": "code",
      "execution_count": null,
      "metadata": {
        "trusted": true
      },
      "outputs": [],
      "source": [
        "import matplotlib.pyplot as plt\n",
        "import lmfit\n",
        "import numpy as np"
      ]
    },
    {
      "cell_type": "markdown",
      "metadata": {},
      "source": [
        "### Question 4 Ligand with MW 512"
      ]
    },
    {
      "cell_type": "markdown",
      "metadata": {},
      "source": [
        "Using the codeblocks below, you can determine the dissociation constant. First you need to provide your X and Y axis as variables"
      ]
    },
    {
      "cell_type": "code",
      "execution_count": null,
      "metadata": {
        "trusted": true
      },
      "outputs": [],
      "source": [
        "# Example for providing a list of numbers representing the x and y axis\n",
        "# y = [0,1,2,3,4,5]\n",
        "# x = [0,1,2,3,4,5]\n",
        "l_free = \n",
        "fractional_saturation = "
      ]
    },
    {
      "cell_type": "markdown",
      "metadata": {},
      "source": [
        "Now provide a function that you will use to fit your data using the variables Lfree and Kdiss"
      ]
    },
    {
      "cell_type": "code",
      "execution_count": null,
      "metadata": {
        "trusted": true
      },
      "outputs": [],
      "source": [
        "# example for a linear function\n",
        "# def linear (x,a,b) :\n",
        "#     return ax+b\n",
        "def kd_fitting (lfree, kdiss):\n",
        "    return "
      ]
    },
    {
      "cell_type": "markdown",
      "metadata": {},
      "source": [
        "Now run the codeblock below to see your fitted data. What is the provided Kd?"
      ]
    },
    {
      "cell_type": "code",
      "execution_count": null,
      "metadata": {
        "trusted": true
      },
      "outputs": [],
      "source": [
        "data = np.array([l_free,fractional_saturation]).T\n",
        "print(data)\n",
        "l_real = data[:, 0]\n",
        "f_real = data[:, 1]\n",
        "\n",
        "def residuals (p,l_real,f_real):\n",
        "    kd = p['Kdiss']\n",
        "    fi = kd_fitting(l_real,kd)\n",
        "    return f_real-fi\n",
        "\n",
        "params = lmfit.Parameters()\n",
        "params.add(\"Kdiss\", min = 0)\n",
        "\n",
        "result = lmfit.minimize(residuals, params, args = (l_real,f_real))\n",
        "lmfit.report_fit(result)\n",
        "\n",
        "plt.scatter(l_free,fractional_saturation)\n",
        "plt.xlabel(\"[Lfree] uM\")\n",
        "plt.ylabel(\"F\")\n",
        "s_plot = np.linspace(0,l_free[-1],100)\n",
        "plt.plot(s_plot,kd_fitting(s_plot,result.params['Kdiss'].value))\n",
        "plt.show()\n"
      ]
    },
    {
      "cell_type": "markdown",
      "metadata": {},
      "source": [
        "Now plot the data in a log concentration-binding curve. To do this we will use a function that transforms our data to the logarithmic of molar concentrations. We will apply this function in a for loop that will go over each entry in our previous list l_free list and rewrite it to a new number. This new number will then be added to a new list. In the code block below, fill in how you would transform the numbers, use np.log10() to transform to logaritmic numbers."
      ]
    },
    {
      "cell_type": "code",
      "execution_count": null,
      "metadata": {},
      "outputs": [],
      "source": [
        "l_free_log = []\n",
        "for value in l_free:\n",
        "    new_value = #fill in your transformation herer\n",
        "    l_free_log.append(new_value)\n",
        "print (l_free_log)"
      ]
    },
    {
      "cell_type": "markdown",
      "metadata": {},
      "source": [
        "Lastly, we have to plot our data. Can you estimate the Kd from this graph?"
      ]
    },
    {
      "cell_type": "code",
      "execution_count": null,
      "metadata": {},
      "outputs": [],
      "source": [
        "plt.plot(l_free_log,fractional_saturation,'-o')\n",
        "plt.xlabel(\"[Lfree] M\")\n",
        "plt.xticks([-7,-6,-5,-4,-3])\n",
        "plt.ylabel(\"F\")"
      ]
    },
    {
      "cell_type": "markdown",
      "metadata": {},
      "source": [
        "### Question 5 [125I]CHIBA-1006"
      ]
    },
    {
      "cell_type": "markdown",
      "metadata": {},
      "source": [
        "Provide your data points in the following lists. In addition, also provide your estimated Kd."
      ]
    },
    {
      "cell_type": "code",
      "execution_count": null,
      "metadata": {},
      "outputs": [],
      "source": [
        "ligand = \n",
        "cpm_A = \n",
        "cpm_B = \n",
        "cpm_C = \n",
        "Kd = "
      ]
    },
    {
      "cell_type": "markdown",
      "metadata": {},
      "source": [
        "Now provide a function that you will fit your data with using the variables Ligand, Rtot and kdiss"
      ]
    },
    {
      "cell_type": "code",
      "execution_count": null,
      "metadata": {},
      "outputs": [],
      "source": [
        "def binding_fit (Ligand,Rtot,kdiss):\n",
        "    return "
      ]
    },
    {
      "cell_type": "markdown",
      "metadata": {},
      "source": [
        "Now run the script to see your fitted data"
      ]
    },
    {
      "cell_type": "code",
      "execution_count": null,
      "metadata": {},
      "outputs": [],
      "source": [
        "data = [cpm_A,cpm_B,cpm_C]\n",
        "data = np.array(data)\n",
        "ligand = np.array(ligand)\n",
        "ndata, _ = data.shape\n",
        "\n",
        "def fit(params,ligand,i):\n",
        "    kd = params[f'Kd_{i}']\n",
        "    rtot = params[f'Rtot_{i}']\n",
        "    fi = binding_fit(ligand,rtot,kd)\n",
        "    return fi\n",
        "\n",
        "def objective(params, ligand,data):\n",
        "    resid = 0.0*data[:]\n",
        "    for i in range(ndata):\n",
        "        resid[i,:] = data[i,:]-fit(params,ligand,i)\n",
        "    return resid.flatten()\n",
        "\n",
        "params = lmfit.Parameters()\n",
        "for i in range(ndata):\n",
        "    params.add(f'Kd_{i}',value = Kd, min = 0)\n",
        "    params.add(f'Rtot_{i}', min = 0)\n",
        "\n",
        "out = lmfit.minimize(objective,params,args = (ligand,data))\n",
        "lmfit.report_fit(out.params)\n",
        "\n",
        "plt.scatter(ligand, cpm_A, label = 'Tube A')\n",
        "plt.scatter(ligand, cpm_B, label = 'Tube B')\n",
        "plt.scatter(ligand, cpm_C, label = 'Tube C')\n",
        "\n",
        "for i in range(ndata):\n",
        "    y_fit = fit(out.params,ligand,i)\n",
        "    plt.plot(ligand,y_fit,'-')\n",
        "plt.xlabel(\"Added ligand (nM)\")\n",
        "plt.ylabel('Measured radionactivity per tube (cpm)')\n",
        "plt.grid()\n",
        "plt.legend()\n",
        "plt.show()"
      ]
    }
  ],
  "metadata": {
    "kernelspec": {
      "display_name": "Python 3",
      "language": "python",
      "name": "python3"
    },
    "language_info": {
      "codemirror_mode": {
        "name": "ipython",
        "version": 3
      },
      "file_extension": ".py",
      "mimetype": "text/x-python",
      "name": "python",
      "nbconvert_exporter": "python",
      "pygments_lexer": "ipython3",
      "version": "3.11.7"
    }
  },
  "nbformat": 4,
  "nbformat_minor": 4
}
